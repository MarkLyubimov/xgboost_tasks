{
  "nbformat": 4,
  "nbformat_minor": 0,
  "metadata": {
    "colab": {
      "name": "colab_xgboost_gpu_vs_cpu.ipynb",
      "version": "0.3.2",
      "provenance": [],
      "collapsed_sections": [],
      "include_colab_link": true
    },
    "kernelspec": {
      "display_name": "Python 3",
      "language": "python",
      "name": "python3"
    },
    "accelerator": "GPU"
  },
  "cells": [
    {
      "cell_type": "markdown",
      "metadata": {
        "id": "view-in-github",
        "colab_type": "text"
      },
      "source": [
        "<a href=\"https://colab.research.google.com/github/MarkLyubimov/xgboost_tasks/blob/master/colab_xgboost_gpu_vs_cpu.ipynb\" target=\"_parent\"><img src=\"https://colab.research.google.com/assets/colab-badge.svg\" alt=\"Open In Colab\"/></a>"
      ]
    },
    {
      "metadata": {
        "colab_type": "code",
        "id": "LvWB1809XkP0",
        "outputId": "09cbbf30-901d-41c7-aa8f-99f3a3029c14",
        "colab": {
          "base_uri": "https://localhost:8080/",
          "height": 136
        }
      },
      "cell_type": "code",
      "source": [
        "!pip uninstall xgboost"
      ],
      "execution_count": 1,
      "outputs": [
        {
          "output_type": "stream",
          "text": [
            "Uninstalling xgboost-0.81:\n",
            "  Would remove:\n",
            "    /usr/local/lib/python3.6/dist-packages/xgboost-0.81.dist-info/*\n",
            "    /usr/local/lib/python3.6/dist-packages/xgboost/*\n",
            "    /usr/local/xgboost/libxgboost.so\n",
            "Proceed (y/n)? y\n",
            "  Successfully uninstalled xgboost-0.81\n"
          ],
          "name": "stdout"
        }
      ]
    },
    {
      "metadata": {
        "id": "Ca3oaZkYYCdi",
        "colab_type": "text"
      },
      "cell_type": "markdown",
      "source": [
        "### Download from:\n",
        "https://s3-us-west-2.amazonaws.com/xgboost-wheels/list.html\n",
        "### and upload that file to colab"
      ]
    },
    {
      "metadata": {
        "colab_type": "code",
        "id": "GXSn_ZESX5dL",
        "outputId": "ec84ba8c-6a0c-4192-a51a-82fc53b3ae13",
        "colab": {
          "base_uri": "https://localhost:8080/",
          "height": 102
        }
      },
      "cell_type": "code",
      "source": [
        "!pip install xgboost-0.81-py2.py3-none-manylinux1_x86_64.whl"
      ],
      "execution_count": 2,
      "outputs": [
        {
          "output_type": "stream",
          "text": [
            "Processing ./xgboost-0.81-py2.py3-none-manylinux1_x86_64.whl\n",
            "Requirement already satisfied: scipy in /usr/local/lib/python3.6/dist-packages (from xgboost==0.81) (1.1.0)\n",
            "Requirement already satisfied: numpy in /usr/local/lib/python3.6/dist-packages (from xgboost==0.81) (1.14.6)\n",
            "Installing collected packages: xgboost\n",
            "Successfully installed xgboost-0.81\n"
          ],
          "name": "stdout"
        }
      ]
    },
    {
      "metadata": {
        "colab_type": "code",
        "id": "dG_OyuvZZKW8",
        "outputId": "eb1f4099-fcb8-4a72-aefa-1061df122218",
        "colab": {
          "base_uri": "https://localhost:8080/",
          "height": 34
        }
      },
      "cell_type": "code",
      "source": [
        "import time\n",
        "import xgboost as xgb\n",
        "xgb.__version__"
      ],
      "execution_count": 3,
      "outputs": [
        {
          "output_type": "execute_result",
          "data": {
            "text/plain": [
              "'0.81'"
            ]
          },
          "metadata": {
            "tags": []
          },
          "execution_count": 3
        }
      ]
    },
    {
      "metadata": {
        "id": "16YKxTvHNfLr",
        "colab_type": "code",
        "colab": {}
      },
      "cell_type": "code",
      "source": [
        "import numpy as np\n",
        "data = np.random.randint(low=-10, high=10, size=(10000, 500))\n",
        "target = np.random.randint(low=0, high=2, size=10000)"
      ],
      "execution_count": 0,
      "outputs": []
    },
    {
      "metadata": {
        "id": "LVJU87ojNfLv",
        "colab_type": "code",
        "colab": {
          "base_uri": "https://localhost:8080/",
          "height": 34
        },
        "outputId": "c2a2d20b-66ad-46f8-c8f7-adefa4b67b03"
      },
      "cell_type": "code",
      "source": [
        "target"
      ],
      "execution_count": 5,
      "outputs": [
        {
          "output_type": "execute_result",
          "data": {
            "text/plain": [
              "array([0, 1, 0, ..., 0, 1, 0])"
            ]
          },
          "metadata": {
            "tags": []
          },
          "execution_count": 5
        }
      ]
    },
    {
      "metadata": {
        "id": "yAJfwSULYXdz",
        "colab_type": "text"
      },
      "cell_type": "markdown",
      "source": [
        "### Train each algorithm n times"
      ]
    },
    {
      "metadata": {
        "id": "x-eTTsrnNfL0",
        "colab_type": "code",
        "colab": {}
      },
      "cell_type": "code",
      "source": [
        "n = 5"
      ],
      "execution_count": 0,
      "outputs": []
    },
    {
      "metadata": {
        "id": "i9wj6I5pXMyE",
        "colab_type": "text"
      },
      "cell_type": "markdown",
      "source": [
        "# Histogram algorithm"
      ]
    },
    {
      "metadata": {
        "colab_type": "code",
        "id": "Tpc0O4wEXFzk",
        "scrolled": true,
        "colab": {}
      },
      "cell_type": "code",
      "source": [
        "gpu_time = []\n",
        "for i in range(n):\n",
        "    # sklearn API example\n",
        "    gbm_gpu = xgb.XGBClassifier(silent=True, n_estimators=500, tree_method='gpu_hist', n_jobs=-1)\n",
        "    start = time.time()\n",
        "    gbm_gpu.fit(data, target, eval_set=[(data, target)])\n",
        "    end = time.time() - start\n",
        "    gpu_time.append(end)"
      ],
      "execution_count": 0,
      "outputs": []
    },
    {
      "metadata": {
        "colab_type": "code",
        "id": "_C6GXhata6vn",
        "scrolled": true,
        "colab": {}
      },
      "cell_type": "code",
      "source": [
        "cpu_time = []\n",
        "for i in range(n):\n",
        "    # sklearn API example\n",
        "    gbm_cpu = xgb.XGBClassifier(silent=True, n_estimators=500, tree_method='hist', n_jobs=-1)\n",
        "    start = time.time()\n",
        "    gbm_cpu.fit(data, target, eval_set=[(data, target)])\n",
        "    end = time.time() - start\n",
        "    cpu_time.append(end)"
      ],
      "execution_count": 0,
      "outputs": []
    },
    {
      "metadata": {
        "id": "ZrqJUK3QXh-P",
        "colab_type": "text"
      },
      "cell_type": "markdown",
      "source": [
        "### GPU time"
      ]
    },
    {
      "metadata": {
        "colab_type": "code",
        "id": "j3naBVHzXGY7",
        "outputId": "84223822-ad2b-4721-ad88-6078b0c7e8b1",
        "colab": {
          "base_uri": "https://localhost:8080/",
          "height": 34
        }
      },
      "cell_type": "code",
      "source": [
        "sum(gpu_time)/n"
      ],
      "execution_count": 9,
      "outputs": [
        {
          "output_type": "execute_result",
          "data": {
            "text/plain": [
              "8.717630338668823"
            ]
          },
          "metadata": {
            "tags": []
          },
          "execution_count": 9
        }
      ]
    },
    {
      "metadata": {
        "id": "rQvpjbydXm0J",
        "colab_type": "text"
      },
      "cell_type": "markdown",
      "source": [
        "### CPU time"
      ]
    },
    {
      "metadata": {
        "colab_type": "code",
        "id": "hu_-HPcwa6yg",
        "outputId": "eb36a6e4-047c-4717-c640-3bb2cd4aa826",
        "colab": {
          "base_uri": "https://localhost:8080/",
          "height": 34
        }
      },
      "cell_type": "code",
      "source": [
        "sum(cpu_time)/n"
      ],
      "execution_count": 10,
      "outputs": [
        {
          "output_type": "execute_result",
          "data": {
            "text/plain": [
              "29.30803289413452"
            ]
          },
          "metadata": {
            "tags": []
          },
          "execution_count": 10
        }
      ]
    },
    {
      "metadata": {
        "id": "bjZGgutdXFTU",
        "colab_type": "text"
      },
      "cell_type": "markdown",
      "source": [
        "# Exact algorithm"
      ]
    },
    {
      "metadata": {
        "colab_type": "code",
        "id": "NUJfHoN6a60o",
        "scrolled": true,
        "colab": {}
      },
      "cell_type": "code",
      "source": [
        "gpu_time = []\n",
        "for i in range(n):\n",
        "    # sklearn API example\n",
        "    gbm_gpu = xgb.XGBClassifier(silent=True, n_estimators=500, tree_method='gpu_exact', n_jobs=-1)\n",
        "    start = time.time()\n",
        "    gbm_gpu.fit(data, target, eval_set=[(data, target)])\n",
        "    end = time.time() - start\n",
        "    gpu_time.append(end)"
      ],
      "execution_count": 0,
      "outputs": []
    },
    {
      "metadata": {
        "colab_type": "code",
        "id": "VO4CQJ0qa6s9",
        "scrolled": true,
        "colab": {}
      },
      "cell_type": "code",
      "source": [
        "cpu_time = []\n",
        "for i in range(n):\n",
        "    # sklearn API example\n",
        "    gbm_cpu = xgb.XGBClassifier(silent=True, n_estimators=500, tree_method='exact', n_jobs=-1)\n",
        "    start = time.time()\n",
        "    gbm_cpu.fit(data, target, eval_set=[(data, target)])\n",
        "    end = time.time() - start\n",
        "    cpu_time.append(end)"
      ],
      "execution_count": 0,
      "outputs": []
    },
    {
      "metadata": {
        "id": "fzFz67awXqPQ",
        "colab_type": "text"
      },
      "cell_type": "markdown",
      "source": [
        "### GPU time"
      ]
    },
    {
      "metadata": {
        "id": "hCrH8-oSNfMS",
        "colab_type": "code",
        "colab": {
          "base_uri": "https://localhost:8080/",
          "height": 34
        },
        "outputId": "8853b9c6-52a5-48d2-fda1-56c6827fc85d"
      },
      "cell_type": "code",
      "source": [
        "sum(gpu_time)/n"
      ],
      "execution_count": 13,
      "outputs": [
        {
          "output_type": "execute_result",
          "data": {
            "text/plain": [
              "12.019564342498779"
            ]
          },
          "metadata": {
            "tags": []
          },
          "execution_count": 13
        }
      ]
    },
    {
      "metadata": {
        "id": "GYMGY75QXsB7",
        "colab_type": "text"
      },
      "cell_type": "markdown",
      "source": [
        "### CPU time"
      ]
    },
    {
      "metadata": {
        "id": "9eefdS_NNfMc",
        "colab_type": "code",
        "colab": {
          "base_uri": "https://localhost:8080/",
          "height": 34
        },
        "outputId": "69373cc3-391e-4c76-e764-675780ae141c"
      },
      "cell_type": "code",
      "source": [
        "sum(cpu_time)/n"
      ],
      "execution_count": 14,
      "outputs": [
        {
          "output_type": "execute_result",
          "data": {
            "text/plain": [
              "62.12097020149231"
            ]
          },
          "metadata": {
            "tags": []
          },
          "execution_count": 14
        }
      ]
    }
  ]
}